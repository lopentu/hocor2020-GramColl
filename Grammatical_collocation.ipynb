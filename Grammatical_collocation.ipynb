{
 "cells": [
  {
   "cell_type": "code",
   "execution_count": 1,
   "metadata": {},
   "outputs": [],
   "source": [
    "from APIsearch import search, get_capture_groups, top_n\n",
    "from collo_measures import cca, dca, rank_collo"
   ]
  },
  {
   "cell_type": "markdown",
   "metadata": {},
   "source": [
    "## 1. Covarying Collexeme Analysis (CCA)\n",
    "\n",
    "「把」字句的**物品**與**動作**, e.g., 把**錢**__給__我\n",
    "\n",
    "### CQL\n",
    "```\n",
    "[word=\"把\" & pos=\"P\"] [pos!=\"N[abcd].*|COMMACATEGORY|PERIODCATEGORY\"]* obj:[pos=\"N[abcd].*\"] v:[pos=\"V.*\"]\n",
    "``` "
   ]
  },
  {
   "cell_type": "code",
   "execution_count": 2,
   "metadata": {},
   "outputs": [
    {
     "name": "stdout",
     "output_type": "stream",
     "text": [
      "Found 8977 results\n"
     ]
    }
   ],
   "source": [
    "cql = '[word=\"把\" & pos=\"P\"] [pos!=\"N[abcd].*|COMMACATEGORY|PERIODCATEGORY\"]* obj:[pos=\"N[abcd].*\"] v:[pos=\"V.*\"]'\n",
    "search_results, requested_urls = search(cql, board=\"Boy-Girl\", year_from=2019, year_to=2019, number=8977)"
   ]
  },
  {
   "cell_type": "code",
   "execution_count": 3,
   "metadata": {},
   "outputs": [
    {
     "data": {
      "text/plain": [
       "8977"
      ]
     },
     "execution_count": 3,
     "metadata": {},
     "output_type": "execute_result"
    }
   ],
   "source": [
    "len(search_results)"
   ]
  },
  {
   "cell_type": "code",
   "execution_count": 4,
   "metadata": {},
   "outputs": [
    {
     "data": {
      "text/plain": [
       "6264"
      ]
     },
     "execution_count": 4,
     "metadata": {},
     "output_type": "execute_result"
    }
   ],
   "source": [
    "freq_table = {}\n",
    "for hit in search_results:\n",
    "    gramrel = get_capture_groups(hit)\n",
    "    Obj, Act = gramrel['obj'][0], gramrel['v'][0]\n",
    "    \n",
    "    k = (Obj, Act)\n",
    "    if k not in freq_table:\n",
    "        freq_table[k] = 0\n",
    "    freq_table[k] += 1\n",
    "\n",
    "len(freq_table)"
   ]
  },
  {
   "cell_type": "code",
   "execution_count": 5,
   "metadata": {},
   "outputs": [
    {
     "data": {
      "text/plain": [
       "[(('重心', '放'), 65),\n",
       " (('錢', '給'), 45),\n",
       " (('錢', '拿去'), 42),\n",
       " (('重點', '放'), 39),\n",
       " (('話', '講'), 39),\n",
       " (('人', '當'), 38),\n",
       " (('錢', '花'), 33),\n",
       " (('時間', '花'), 33),\n",
       " (('女生', '當'), 29),\n",
       " (('責任', '推給'), 26),\n",
       " (('心思', '放'), 23),\n",
       " (('時間', '浪費'), 22),\n",
       " (('女友', '當'), 22),\n",
       " (('男生', '當'), 22),\n",
       " (('焦點', '放'), 20)]"
      ]
     },
     "execution_count": 5,
     "metadata": {},
     "output_type": "execute_result"
    }
   ],
   "source": [
    "top_n(freq_table, 15)"
   ]
  },
  {
   "cell_type": "code",
   "execution_count": 12,
   "metadata": {},
   "outputs": [],
   "source": [
    "collocations = cca(freq_table)"
   ]
  },
  {
   "cell_type": "code",
   "execution_count": 13,
   "metadata": {},
   "outputs": [
    {
     "data": {
      "text/plain": [
       "[(('重心', '放'), 271.421560848666, 65),\n",
       " (('重點', '放'), 183.20998938024928, 39),\n",
       " (('妹', '達'), 173.7096502719227, 19),\n",
       " (('錢', '拿去'), 173.27124551993205, 42),\n",
       " (('話', '講'), 161.3834669743639, 39),\n",
       " (('心', '聊'), 155.68343186694932, 19),\n",
       " (('責任', '推給'), 148.0138228120744, 26),\n",
       " (('時間', '花'), 137.15892850244444, 33),\n",
       " (('責任', '推到'), 112.98412079076587, 17),\n",
       " (('錢', '花'), 110.52864351326383, 33),\n",
       " (('時間', '浪費'), 108.61381164211798, 22),\n",
       " (('錯', '推給'), 105.97270943400696, 13),\n",
       " (('心思', '放'), 105.32060147547003, 23),\n",
       " (('距離', '拉開'), 102.1130824791797, 9),\n",
       " (('焦點', '放'), 93.53232078379003, 20)]"
      ]
     },
     "execution_count": 13,
     "metadata": {},
     "output_type": "execute_result"
    }
   ],
   "source": [
    "rank_collo(collocations, sort_by='G2', freq_cutoff=3)[:15]"
   ]
  },
  {
   "cell_type": "code",
   "execution_count": 11,
   "metadata": {},
   "outputs": [
    {
     "data": {
      "text/plain": [
       "[(('重心', '放'), 138.13724018692318, 65),\n",
       " (('重點', '放'), 93.63402248631904, 39),\n",
       " (('錢', '拿去'), 88.9350611803136, 42),\n",
       " (('妹', '達'), 87.70386959728724, 19),\n",
       " (('話', '講'), 83.0890997460714, 39),\n",
       " (('心', '聊'), 79.51399246447232, 19),\n",
       " (('責任', '推給'), 76.16474172420881, 26),\n",
       " (('時間', '花'), 70.87859313042334, 33),\n",
       " (('責任', '推到'), 58.32442867914655, 17),\n",
       " (('錢', '花'), 57.56853869447204, 33),\n",
       " (('時間', '浪費'), 56.297417776301586, 22),\n",
       " (('錯', '推給'), 54.51960351446885, 13),\n",
       " (('心思', '放'), 54.478503047634995, 23),\n",
       " (('距離', '拉開'), 52.17269143420717, 9),\n",
       " (('焦點', '放'), 48.48194515983087, 20)]"
      ]
     },
     "execution_count": 11,
     "metadata": {},
     "output_type": "execute_result"
    }
   ],
   "source": [
    "rank_collo(collocations, sort_by='fisher_exact', freq_cutoff=3)[:15]"
   ]
  },
  {
   "cell_type": "code",
   "execution_count": 7,
   "metadata": {},
   "outputs": [
    {
     "data": {
      "text/plain": [
       "[(('時間', '花'), 137.77367334053986, 33),\n",
       " (('時間', '浪費'), 114.12598616362698, 22),\n",
       " (('時間', '拉長'), 73.91903066940353, 13),\n",
       " (('時間', '拿來'), 59.03572718740524, 17),\n",
       " (('時間', '留給'), 44.55927882788099, 12),\n",
       " (('時間', '用'), 39.35640691925925, 11),\n",
       " (('時間', '用到'), 34.73832874775042, 6),\n",
       " (('時間', '拿去'), 25.476607151702254, 12),\n",
       " (('時間', '空下來'), 21.775993001252676, 3),\n",
       " (('時間', '填滿'), 20.406966540208803, 5),\n",
       " (('時間', '排'), 19.43737395603536, 5),\n",
       " (('時間', '投資'), 15.1527529186014, 3),\n",
       " (('時間', '省下來'), 9.312694823982802, 3),\n",
       " (('時間', '拉'), 7.405562630732075, 3),\n",
       " (('時間', '說'), 3.962179530519979, 5)]"
      ]
     },
     "execution_count": 7,
     "metadata": {},
     "output_type": "execute_result"
    }
   ],
   "source": [
    "# Search by node word\n",
    "rank_collo(collocations, nodeword=\"時間\", nodeword_idx=0, sort_by='G2', freq_cutoff=3)[:15]"
   ]
  },
  {
   "cell_type": "markdown",
   "metadata": {},
   "source": [
    "## 2. Distinctive Collexeme Analysis (DCA)\n",
    "\n",
    "比較**將**字句與**把**字句的**動詞**使用偏好\n",
    "\n",
    "### CQL\n",
    "\n",
    "- 將/把 Obj V\n",
    "```\n",
    "construction:[word=\"將|把\" & pos=\"P\"] [pos!=\"N[abcd].*|COMMACATEGORY|PERIODCATEGORY\"]* obj:[pos=\"N[abcd].*\"] v:[pos=\"V.*\"]\n",
    "```"
   ]
  },
  {
   "cell_type": "code",
   "execution_count": 8,
   "metadata": {},
   "outputs": [
    {
     "name": "stdout",
     "output_type": "stream",
     "text": [
      "Found 9243 results\n"
     ]
    }
   ],
   "source": [
    "cql = 'construction:[word=\"將|把\" & pos=\"P\"] [pos!=\"N[abcd].*|COMMACATEGORY|PERIODCATEGORY\"]* obj:[pos=\"N[abcd].*\"] v:[pos=\"V.*\"]'\n",
    "search_results, requested_urls = search(cql, board=\"Boy-Girl\", year_from=2019, year_to=2019, number=9243)"
   ]
  },
  {
   "cell_type": "markdown",
   "metadata": {},
   "source": [
    "### 2.1 動詞偏好"
   ]
  },
  {
   "cell_type": "code",
   "execution_count": 9,
   "metadata": {},
   "outputs": [],
   "source": [
    "freq_table = {'把': {}, '將': {}}\n",
    "\n",
    "for hit in search_results:\n",
    "    gramrel = get_capture_groups(hit)\n",
    "    Type, Obj, Act = gramrel['construction'][0], gramrel['obj'][0], gramrel['v'][0]\n",
    "    \n",
    "    if Act not in freq_table[Type]:\n",
    "        freq_table[Type][Act] = 0\n",
    "    freq_table[Type][Act] += 1"
   ]
  },
  {
   "cell_type": "code",
   "execution_count": 10,
   "metadata": {},
   "outputs": [
    {
     "name": "stdout",
     "output_type": "stream",
     "text": [
      "Pos: attract to 把\n",
      "Neg: attract to 將\n"
     ]
    },
    {
     "data": {
      "text/plain": [
       "[('當', 20.243037700027056, 459),\n",
       " ('給', 8.440691320250224, 243),\n",
       " ('講', 6.463272099931488, 110),\n",
       " ('花', 4.692759307985961, 80),\n",
       " ('想', 4.516031699030498, 77),\n",
       " ('拿來', 3.3393456854430585, 57),\n",
       " ('丟', 3.3393456854430585, 57),\n",
       " ('搞', 3.1630670599328394, 54),\n",
       " ('交給', 3.1043204966558857, 53),\n",
       " ('告訴', 2.928119722432687, 50)]"
      ]
     },
     "execution_count": 10,
     "metadata": {},
     "output_type": "execute_result"
    }
   ],
   "source": [
    "rank_collo(dca(freq_table), sort_by='G2', freq_cutoff=3)[:10]"
   ]
  },
  {
   "cell_type": "code",
   "execution_count": 11,
   "metadata": {},
   "outputs": [
    {
     "name": "stdout",
     "output_type": "stream",
     "text": [
      "Pos: attract to 把\n",
      "Neg: attract to 將\n"
     ]
    },
    {
     "data": {
      "text/plain": [
       "[('視為', -35.847320549195416, 18),\n",
       " ('整理', -9.50887685227265, 7),\n",
       " ('列為', -7.650962649824157, 3),\n",
       " ('無限', -5.557709099452445, 6),\n",
       " ('套到', -5.557709099452445, 6),\n",
       " ('交到', -5.0783699392913455, 7),\n",
       " ('問', -4.298055978140039, 9),\n",
       " ('分', -3.419970801844095, 12),\n",
       " ('變成', -2.962685691673147, 14),\n",
       " ('提升', -2.7758098477978104, 3)]"
      ]
     },
     "execution_count": 11,
     "metadata": {},
     "output_type": "execute_result"
    }
   ],
   "source": [
    "rank_collo(dca(freq_table), sort_by='G2', freq_cutoff=3)[-1:-11:-1]"
   ]
  },
  {
   "cell_type": "markdown",
   "metadata": {},
   "source": [
    "### 2.2 物品偏好"
   ]
  },
  {
   "cell_type": "code",
   "execution_count": 12,
   "metadata": {},
   "outputs": [],
   "source": [
    "freq_table = {'把': {}, '將': {}}\n",
    "\n",
    "for hit in search_results:\n",
    "    gramrel = get_capture_groups(hit)\n",
    "    Type, Obj, Act = gramrel['construction'][0], gramrel['obj'][0], gramrel['v'][0]\n",
    "    \n",
    "    if Obj not in freq_table[Type]:\n",
    "        freq_table[Type][Obj] = 0\n",
    "    freq_table[Type][Obj] += 1"
   ]
  },
  {
   "cell_type": "code",
   "execution_count": 13,
   "metadata": {},
   "outputs": [
    {
     "name": "stdout",
     "output_type": "stream",
     "text": [
      "Pos: attract to 把\n",
      "Neg: attract to 將\n"
     ]
    },
    {
     "data": {
      "text/plain": [
       "[('事情', 14.44430933034662, 244),\n",
       " ('話', 12.22859668032919, 207),\n",
       " ('錢', 5.4966119339174035, 359),\n",
       " ('妹', 4.98743585718279, 85),\n",
       " ('女友', 4.242322416189659, 158),\n",
       " ('小孩', 4.2216160931407165, 72),\n",
       " ('心', 4.045044911538693, 69),\n",
       " ('想法', 3.3393456854430585, 57),\n",
       " ('照片', 2.693276106447513, 46),\n",
       " ('女兒', 2.5758931654122454, 44)]"
      ]
     },
     "execution_count": 13,
     "metadata": {},
     "output_type": "execute_result"
    }
   ],
   "source": [
    "rank_collo(dca(freq_table), sort_by='G2', freq_cutoff=3)[:10]"
   ]
  },
  {
   "cell_type": "code",
   "execution_count": 14,
   "metadata": {},
   "outputs": [
    {
     "name": "stdout",
     "output_type": "stream",
     "text": [
      "Pos: attract to 把\n",
      "Neg: attract to 將\n"
     ]
    },
    {
     "data": {
      "text/plain": [
       "[('物品', -9.50887685227265, 7),\n",
       " ('網友', -7.650962649824157, 3),\n",
       " ('意見', -5.557709099452445, 6),\n",
       " ('問題', -5.319274474376449, 146),\n",
       " ('經驗', -5.137425705920231, 18),\n",
       " ('伴侶', -4.6630495351146095, 8),\n",
       " ('愛情', -3.534983614441842, 26),\n",
       " ('情緒', -3.361910031958626, 85),\n",
       " ('女性', -3.1810420745778942, 13),\n",
       " ('感情', -2.9867987997911083, 90)]"
      ]
     },
     "execution_count": 14,
     "metadata": {},
     "output_type": "execute_result"
    }
   ],
   "source": [
    "rank_collo(dca(freq_table), sort_by='G2', freq_cutoff=3)[-1:-11:-1]"
   ]
  }
 ],
 "metadata": {
  "kernelspec": {
   "display_name": "Python 3.7.1 64-bit ('py3.7': virtualenv)",
   "language": "python",
   "name": "python37164bitpy37virtualenv2d7bbfb2f3634b51ab68ab702c931a60"
  },
  "language_info": {
   "codemirror_mode": {
    "name": "ipython",
    "version": 3
   },
   "file_extension": ".py",
   "mimetype": "text/x-python",
   "name": "python",
   "nbconvert_exporter": "python",
   "pygments_lexer": "ipython3",
   "version": "3.7.6"
  }
 },
 "nbformat": 4,
 "nbformat_minor": 4
}
